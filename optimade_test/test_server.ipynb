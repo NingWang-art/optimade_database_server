{
 "cells": [
  {
   "cell_type": "code",
   "execution_count": 1,
   "metadata": {},
   "outputs": [
    {
     "name": "stderr",
     "output_type": "stream",
     "text": [
      "usage: ipykernel_launcher.py [-h] [--port PORT] [--host HOST]\n",
      "                             [--log-level {DEBUG,INFO,WARNING,ERROR}]\n",
      "ipykernel_launcher.py: error: unrecognized arguments: --f=/Users/ningwang/Library/Jupyter/runtime/kernel-v3958520f0ec20bde92337ee76467a7069d1b07891.json\n"
     ]
    }
   ],
   "source": [
    "import argparse\n",
    "import logging\n",
    "import json\n",
    "import os\n",
    "from typing import List, TypedDict\n",
    "from pathlib import Path\n",
    "from datetime import datetime\n",
    "\n",
    "from optimade.client import OptimadeClient\n",
    "from optimade.adapters.structures import Structure\n",
    "import jmespath\n",
    "from pymatgen.core import Composition\n",
    "\n",
    "from dp.agent.server import CalculationMCPServer\n",
    "\n",
    "# === CONFIG ===\n",
    "BASE_OUTPUT_DIR = Path(\"materials_data\")\n",
    "BASE_OUTPUT_DIR.mkdir(parents=True, exist_ok=True)\n",
    "\n",
    "# === ARG PARSING ===\n",
    "def parse_args():\n",
    "    parser = argparse.ArgumentParser(description=\"OPTIMADE Materials Data MCP Server\")\n",
    "    parser.add_argument('--port', type=int, default=50001, help='Server port (default: 50001)')\n",
    "    parser.add_argument('--host', default='0.0.0.0', help='Server host (default: 0.0.0.0)')\n",
    "    parser.add_argument('--log-level', default='INFO',\n",
    "                        choices=['DEBUG', 'INFO', 'WARNING', 'ERROR'],\n",
    "                        help='Logging level (default: INFO)')\n",
    "    try:\n",
    "        return parser.parse_args()\n",
    "    except SystemExit:\n",
    "        # In ADK dev UI fallback\n",
    "        class Args:\n",
    "            port = 50001\n",
    "            host = '0.0.0.0'\n",
    "            log_level = 'INFO'\n",
    "        return Args()\n",
    "\n",
    "\n",
    "# === RESULT TYPE ===\n",
    "class FetchResult(TypedDict):\n",
    "    output_dir: Path\n",
    "    message: str\n",
    "\n",
    "\n",
    "# === MCP SERVER ===\n",
    "args = parse_args()\n",
    "logging.basicConfig(level=args.log_level)\n",
    "mcp = CalculationMCPServer(\"OptimadeServer\", port=args.port, host=args.host)\n",
    "\n",
    "\n",
    "# === UTILS ===\n",
    "def hill_formula_filter(formula: str) -> str:\n",
    "    hill_formula = Composition(formula).hill_formula.replace(' ', '')\n",
    "    return f'chemical_formula_reduced=\"{hill_formula}\"'\n",
    "\n",
    "\n",
    "# === TOOL 1 ===\n",
    "@mcp.tool()\n",
    "def fetch_structures_by_formula(formula: str, max_results: int = 2, as_cif: bool = True) -> FetchResult:\n",
    "    \"\"\"\n",
    "    Fetch structures by formula and save as CIF or JSON. Returns output folder path and message.\n",
    "    \"\"\"\n",
    "    filter_str = hill_formula_filter(formula)\n",
    "    client = OptimadeClient(include_providers={\"mp\"}, max_results_per_provider=max_results)\n",
    "    results = client.get(filter=filter_str)\n",
    "\n",
    "    try:\n",
    "        structure_data_list = jmespath.search(\"structures.*.*.data\", results)[0][0]\n",
    "    except Exception as e:\n",
    "        return {\n",
    "            \"output_dir\": Path(),\n",
    "            \"message\": f\"Error extracting data: {str(e)}\"\n",
    "        }\n",
    "\n",
    "    output_folder = BASE_OUTPUT_DIR / f\"{formula}_{datetime.now().strftime('%Y%m%d_%H%M%S')}\"\n",
    "    output_folder.mkdir(parents=True, exist_ok=True)\n",
    "\n",
    "    for i, structure_data in enumerate(structure_data_list[:max_results]):\n",
    "        try:\n",
    "            suffix = \"cif\" if as_cif else \"json\"\n",
    "            file_path = output_folder / f\"{formula.replace(' ', '_')}_{i}.{suffix}\"\n",
    "            with open(file_path, \"w\") as f:\n",
    "                if as_cif:\n",
    "                    f.write(Structure(structure_data).convert('cif'))\n",
    "                else:\n",
    "                    json.dump(structure_data, f, indent=2)\n",
    "        except Exception as e:\n",
    "            logging.warning(f\"Failed to save structure {i}: {str(e)}\")\n",
    "\n",
    "    return {\n",
    "        \"output_dir\": output_folder,\n",
    "        \"message\": f\"Saved structures to folder: {output_folder}\"\n",
    "    }\n",
    "\n",
    "\n",
    "# === TOOL 2 ===\n",
    "@mcp.tool()\n",
    "def fetch_structures_by_elements(elements: List[str], max_results: int = 2, as_cif: bool = True) -> FetchResult:\n",
    "    \"\"\"\n",
    "    Fetch structures by element list and save as CIF or JSON. Returns output folder path and message.\n",
    "    \"\"\"\n",
    "    element_filter = 'elements HAS ALL ' + ', '.join(f'\"{e}\"' for e in elements)\n",
    "    client = OptimadeClient(include_providers={\"mp\"}, max_results_per_provider=max_results)\n",
    "    results = client.get(filter=element_filter)\n",
    "\n",
    "    try:\n",
    "        structure_data_list = jmespath.search(\"structures.*.*.data\", results)[0][0]\n",
    "    except Exception as e:\n",
    "        return {\n",
    "            \"output_dir\": Path(),\n",
    "            \"message\": f\"Error extracting data: {str(e)}\"\n",
    "        }\n",
    "\n",
    "    folder_name = \"_\".join(elements) + \"_\" + datetime.now().strftime(\"%Y%m%d_%H%M%S\")\n",
    "    output_folder = BASE_OUTPUT_DIR / folder_name\n",
    "    output_folder.mkdir(parents=True, exist_ok=True)\n",
    "\n",
    "    for i, structure_data in enumerate(structure_data_list[:max_results]):\n",
    "        try:\n",
    "            suffix = \"cif\" if as_cif else \"json\"\n",
    "            file_path = output_folder / f\"{'_'.join(elements)}_{i}.{suffix}\"\n",
    "            with open(file_path, \"w\") as f:\n",
    "                if as_cif:\n",
    "                    f.write(Structure(structure_data).convert('cif'))\n",
    "                else:\n",
    "                    json.dump(structure_data, f, indent=2)\n",
    "        except Exception as e:\n",
    "            logging.warning(f\"Failed to save structure {i}: {str(e)}\")\n",
    "\n",
    "    return {\n",
    "        \"output_dir\": output_folder,\n",
    "        \"message\": f\"Saved structures to folder: {output_folder}\"\n",
    "    }\n",
    "\n"
   ]
  },
  {
   "cell_type": "code",
   "execution_count": 2,
   "metadata": {},
   "outputs": [
    {
     "data": {
      "text/html": [
       "<pre style=\"white-space:pre;overflow-x:auto;line-height:normal;font-family:Menlo,'DejaVu Sans Mono',consolas,'Courier New',monospace\">/opt/anaconda3/envs/optimade/lib/python3.13/site-packages/rich/live.py:231: UserWarning: install \"ipywidgets\" for \n",
       "Jupyter support\n",
       "  warnings.warn('install \"ipywidgets\" for Jupyter support')\n",
       "</pre>\n"
      ],
      "text/plain": [
       "/opt/anaconda3/envs/optimade/lib/python3.13/site-packages/rich/live.py:231: UserWarning: install \"ipywidgets\" for \n",
       "Jupyter support\n",
       "  warnings.warn('install \"ipywidgets\" for Jupyter support')\n"
      ]
     },
     "metadata": {},
     "output_type": "display_data"
    },
    {
     "data": {
      "text/html": [
       "<pre style=\"white-space:pre;overflow-x:auto;line-height:normal;font-family:Menlo,'DejaVu Sans Mono',consolas,'Courier New',monospace\">Retrieved databases from <span style=\"color: #008000; text-decoration-color: #008000; font-weight: bold\">mp</span>\n",
       "</pre>\n"
      ],
      "text/plain": [
       "Retrieved databases from \u001b[1;32mmp\u001b[0m\n"
      ]
     },
     "metadata": {},
     "output_type": "display_data"
    },
    {
     "data": {
      "text/html": [
       "<pre style=\"white-space:pre;overflow-x:auto;line-height:normal;font-family:Menlo,'DejaVu Sans Mono',consolas,'Courier New',monospace\"></pre>\n"
      ],
      "text/plain": []
     },
     "metadata": {},
     "output_type": "display_data"
    },
    {
     "data": {
      "text/html": [
       "<pre style=\"white-space:pre;overflow-x:auto;line-height:normal;font-family:Menlo,'DejaVu Sans Mono',consolas,'Courier New',monospace\">╭────────────────────────────────────────────────────────────────────╮\n",
       "│ Performing query <span style=\"color: #808000; text-decoration-color: #808000; font-weight: bold\">structures</span>/?filter=<span style=\"color: #800080; text-decoration-color: #800080; font-weight: bold; font-style: italic\">chemical_formula_reduced=\"FeO\"</span> │\n",
       "╰────────────────────────────────────────────────────────────────────╯\n",
       "</pre>\n"
      ],
      "text/plain": [
       "╭────────────────────────────────────────────────────────────────────╮\n",
       "│ Performing query \u001b[1;33mstructures\u001b[0m/?filter=\u001b[1;3;35mchemical_formula_reduced=\"FeO\"\u001b[0m │\n",
       "╰────────────────────────────────────────────────────────────────────╯\n"
      ]
     },
     "metadata": {},
     "output_type": "display_data"
    },
    {
     "data": {
      "text/html": [
       "<pre style=\"white-space:pre;overflow-x:auto;line-height:normal;font-family:Menlo,'DejaVu Sans Mono',consolas,'Courier New',monospace\">Detected a running event loop <span style=\"font-weight: bold\">(</span>e.g., Jupyter<span style=\"font-weight: bold\">)</span>. Attempting to switch to synchronous mode.\n",
       "</pre>\n"
      ],
      "text/plain": [
       "Detected a running event loop \u001b[1m(\u001b[0me.g., Jupyter\u001b[1m)\u001b[0m. Attempting to switch to synchronous mode.\n"
      ]
     },
     "metadata": {},
     "output_type": "display_data"
    },
    {
     "data": {
      "text/html": [
       "<pre style=\"white-space:pre;overflow-x:auto;line-height:normal;font-family:Menlo,'DejaVu Sans Mono',consolas,'Courier New',monospace\">Reached <span style=\"color: #008080; text-decoration-color: #008080; font-weight: bold\">16</span> results for <span style=\"color: #0000ff; text-decoration-color: #0000ff; text-decoration: underline\">https://optimade.materialsproject.org/,</span> exceeding `max_results_per_provider` parameter <span style=\"font-weight: bold\">(</span><span style=\"color: #008080; text-decoration-color: #008080; font-weight: bold\">3</span><span style=\"font-weight: bold\">)</span>. \n",
       "Stopping download.\n",
       "</pre>\n"
      ],
      "text/plain": [
       "Reached \u001b[1;36m16\u001b[0m results for \u001b[4;94mhttps://optimade.materialsproject.org/,\u001b[0m exceeding `max_results_per_provider` parameter \u001b[1m(\u001b[0m\u001b[1;36m3\u001b[0m\u001b[1m)\u001b[0m. \n",
       "Stopping download.\n"
      ]
     },
     "metadata": {},
     "output_type": "display_data"
    },
    {
     "data": {
      "text/html": [
       "<pre style=\"white-space:pre;overflow-x:auto;line-height:normal;font-family:Menlo,'DejaVu Sans Mono',consolas,'Courier New',monospace\"></pre>\n"
      ],
      "text/plain": []
     },
     "metadata": {},
     "output_type": "display_data"
    },
    {
     "data": {
      "text/plain": [
       "{'output_dir': PosixPath('materials_data/OFe_20250806_093941'),\n",
       " 'message': 'Saved structures to folder: materials_data/OFe_20250806_093941'}"
      ]
     },
     "execution_count": 2,
     "metadata": {},
     "output_type": "execute_result"
    }
   ],
   "source": [
    "fetch_structures_by_formula(formula='OFe', max_results=3, as_cif=False)"
   ]
  },
  {
   "cell_type": "code",
   "execution_count": 3,
   "metadata": {},
   "outputs": [
    {
     "data": {
      "text/html": [
       "<pre style=\"white-space:pre;overflow-x:auto;line-height:normal;font-family:Menlo,'DejaVu Sans Mono',consolas,'Courier New',monospace\">Retrieved databases from <span style=\"color: #008000; text-decoration-color: #008000; font-weight: bold\">mp</span>\n",
       "</pre>\n"
      ],
      "text/plain": [
       "Retrieved databases from \u001b[1;32mmp\u001b[0m\n"
      ]
     },
     "metadata": {},
     "output_type": "display_data"
    },
    {
     "data": {
      "text/html": [
       "<pre style=\"white-space:pre;overflow-x:auto;line-height:normal;font-family:Menlo,'DejaVu Sans Mono',consolas,'Courier New',monospace\"></pre>\n"
      ],
      "text/plain": []
     },
     "metadata": {},
     "output_type": "display_data"
    },
    {
     "data": {
      "text/html": [
       "<pre style=\"white-space:pre;overflow-x:auto;line-height:normal;font-family:Menlo,'DejaVu Sans Mono',consolas,'Courier New',monospace\">╭──────────────────────────────────────────────────────────────────────╮\n",
       "│ Performing query <span style=\"color: #808000; text-decoration-color: #808000; font-weight: bold\">structures</span>/?filter=<span style=\"color: #800080; text-decoration-color: #800080; font-weight: bold; font-style: italic\">elements HAS ALL \"Al\", \"O\", \"Mg\"</span> │\n",
       "╰──────────────────────────────────────────────────────────────────────╯\n",
       "</pre>\n"
      ],
      "text/plain": [
       "╭──────────────────────────────────────────────────────────────────────╮\n",
       "│ Performing query \u001b[1;33mstructures\u001b[0m/?filter=\u001b[1;3;35melements HAS ALL \"Al\", \"O\", \"Mg\"\u001b[0m │\n",
       "╰──────────────────────────────────────────────────────────────────────╯\n"
      ]
     },
     "metadata": {},
     "output_type": "display_data"
    },
    {
     "data": {
      "text/html": [
       "<pre style=\"white-space:pre;overflow-x:auto;line-height:normal;font-family:Menlo,'DejaVu Sans Mono',consolas,'Courier New',monospace\">Detected a running event loop <span style=\"font-weight: bold\">(</span>e.g., Jupyter<span style=\"font-weight: bold\">)</span>. Attempting to switch to synchronous mode.\n",
       "</pre>\n"
      ],
      "text/plain": [
       "Detected a running event loop \u001b[1m(\u001b[0me.g., Jupyter\u001b[1m)\u001b[0m. Attempting to switch to synchronous mode.\n"
      ]
     },
     "metadata": {},
     "output_type": "display_data"
    },
    {
     "data": {
      "text/html": [
       "<pre style=\"white-space:pre;overflow-x:auto;line-height:normal;font-family:Menlo,'DejaVu Sans Mono',consolas,'Courier New',monospace\">Reached <span style=\"color: #008080; text-decoration-color: #008080; font-weight: bold\">20</span> results for <span style=\"color: #0000ff; text-decoration-color: #0000ff; text-decoration: underline\">https://optimade.materialsproject.org/,</span> exceeding `max_results_per_provider` parameter <span style=\"font-weight: bold\">(</span><span style=\"color: #008080; text-decoration-color: #008080; font-weight: bold\">1</span><span style=\"font-weight: bold\">)</span>. \n",
       "Stopping download.\n",
       "</pre>\n"
      ],
      "text/plain": [
       "Reached \u001b[1;36m20\u001b[0m results for \u001b[4;94mhttps://optimade.materialsproject.org/,\u001b[0m exceeding `max_results_per_provider` parameter \u001b[1m(\u001b[0m\u001b[1;36m1\u001b[0m\u001b[1m)\u001b[0m. \n",
       "Stopping download.\n"
      ]
     },
     "metadata": {},
     "output_type": "display_data"
    },
    {
     "data": {
      "text/html": [
       "<pre style=\"white-space:pre;overflow-x:auto;line-height:normal;font-family:Menlo,'DejaVu Sans Mono',consolas,'Courier New',monospace\"></pre>\n"
      ],
      "text/plain": []
     },
     "metadata": {},
     "output_type": "display_data"
    },
    {
     "data": {
      "text/plain": [
       "{'output_dir': PosixPath('materials_data/Al_O_Mg_20250806_093950'),\n",
       " 'message': 'Saved structures to folder: materials_data/Al_O_Mg_20250806_093950'}"
      ]
     },
     "execution_count": 3,
     "metadata": {},
     "output_type": "execute_result"
    }
   ],
   "source": [
    "fetch_structures_by_elements(elements=['Al', 'O', 'Mg'], max_results=1, as_cif=True)"
   ]
  }
 ],
 "metadata": {
  "kernelspec": {
   "display_name": "optimade",
   "language": "python",
   "name": "python3"
  },
  "language_info": {
   "codemirror_mode": {
    "name": "ipython",
    "version": 3
   },
   "file_extension": ".py",
   "mimetype": "text/x-python",
   "name": "python",
   "nbconvert_exporter": "python",
   "pygments_lexer": "ipython3",
   "version": "3.13.5"
  }
 },
 "nbformat": 4,
 "nbformat_minor": 2
}
