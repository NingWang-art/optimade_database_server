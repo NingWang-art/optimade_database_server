{
 "cells": [
  {
   "cell_type": "code",
   "execution_count": 16,
   "metadata": {},
   "outputs": [],
   "source": [
    "import argparse\n",
    "import logging\n",
    "import json\n",
    "from typing import List, Optional, TypedDict, Literal\n",
    "from pathlib import Path\n",
    "from datetime import datetime\n",
    "import hashlib\n",
    "from anyio import to_thread\n",
    "\n",
    "from optimade.client import OptimadeClient\n",
    "from dp.agent.server import CalculationMCPServer\n",
    "\n",
    "from utils import *\n",
    "\n",
    "# === CONFIG ===\n",
    "BASE_OUTPUT_DIR = Path(\"materials_data\")\n",
    "BASE_OUTPUT_DIR.mkdir(parents=True, exist_ok=True)\n",
    "\n",
    "DEFAULT_PROVIDERS = {\n",
    "    # \"aflow\",\n",
    "    \"alexandria\",\n",
    "    # \"aiida\",\n",
    "    # \"ccdc\",\n",
    "    # \"ccpnc\",\n",
    "    \"cmr\",\n",
    "    \"cod\",\n",
    "    # \"httk\",\n",
    "    # \"jarvis\",\n",
    "    \"mcloud\",\n",
    "    \"mcloudarchive\",\n",
    "    \"mp\",\n",
    "    \"mpdd\",\n",
    "    \"mpds\",\n",
    "    # \"mpod\",\n",
    "    \"nmd\",\n",
    "    \"odbx\",\n",
    "    \"omdb\",\n",
    "    \"oqmd\",\n",
    "    # \"optimade\",\n",
    "    # \"optimake\",\n",
    "    # \"pcod\",\n",
    "    # \"psdi\",\n",
    "    \"tcod\",\n",
    "    \"twodmatpedia\",\n",
    "}\n",
    "\n",
    "\n",
    "# === RESULT TYPE ===\n",
    "Format = Literal[\"cif\", \"json\"]\n",
    "\n",
    "class FetchResult(TypedDict):\n",
    "    output_dir: Path\n",
    "    files: List[Path]\n",
    "    # providers_used: List[str]\n",
    "    # filter: str\n",
    "    # warnings: List[str]\n",
    "\n",
    "# === TOOL: RAW filter fetch ===\n",
    "def fetch_structures_with_filter(\n",
    "    filter: str,\n",
    "    as_format: Format = \"cif\",\n",
    "    max_results_per_provider: int = 2,\n",
    "    providers: Optional[List[str]] = None,\n",
    ") -> FetchResult:\n",
    "    \"\"\"\n",
    "    Fetch crystal structures from OPTIMADE databases using a raw filter string.\n",
    "\n",
    "    This function passes the provided OPTIMADE filter directly to all chosen providers\n",
    "    (or the default set if none are specified). The filter can use any supported \n",
    "    OPTIMADE properties and logical operators, e.g.:\n",
    "        - elements HAS ALL \"Al\",\"O\",\"Mg\"\n",
    "        - elements HAS ONLY \"Si\",\"O\"\n",
    "        - elements HAS ALL \"Al\",\"O\",\"Mg\" AND nelements=3\n",
    "        - chemical_formula_reduced=\"O2Si\"\n",
    "        - chemical_formula_descriptive CONTAINS \"H2O\"\n",
    "        - chemical_formula_anonymous=\"A2B\" AND NOT (elements HAS ANY \"Na\")\n",
    "\n",
    "    Parameters\n",
    "    ----------\n",
    "    filter : str\n",
    "        An OPTIMADE filter expression. Supports all valid syntax:\n",
    "        - Property filters (elements, nelements, chemical_formula_reduced, etc.)\n",
    "        - Logical operators: AND, OR, NOT (parentheses for grouping)\n",
    "        - String equality/contains and numeric comparisons\n",
    "    as_format : {\"cif\",\"json\"}, optional\n",
    "        Output format of saved structures.\n",
    "        \"cif\"  → Crystallographic Information File (default)\n",
    "        \"json\" → Raw OPTIMADE structure JSON\n",
    "    max_results_per_provider : int, optional\n",
    "        Maximum number of results to retrieve from each provider (default: 2).\n",
    "    providers : list[str], optional\n",
    "        List of OPTIMADE provider keys to query. If omitted, uses:\n",
    "        {\"aflow\",\"alexandria\",\"cmr\",\"cod\",\"jarvis\",\"matcloud\",\"matterverse\",\"mcloud\",\"mcloudarchive\",\"mp\",\"mpdd\",\"mpds\",\"mpod\",\"nmd\",\"odbx\",\"omdb\",\"oqmd\",\"tcod\",\"twodmatpedia\"}\n",
    "    Returns\n",
    "    -------\n",
    "    FetchResult\n",
    "        {\n",
    "          \"output_dir\": Path to the folder with saved results,\n",
    "          \"files\": List of saved structure files,\n",
    "          \"providers_used\": Providers that returned results,\n",
    "          \"filter\": The filter string used,\n",
    "          \"warnings\": Any error or warning messages\n",
    "        }\n",
    "    \"\"\"\n",
    "    filt = (filter or \"\").strip()\n",
    "    if not filt:\n",
    "        msg = \"[raw] empty filter string\"\n",
    "        logging.error(msg)\n",
    "        return {\n",
    "            \"output_dir\": Path(),\n",
    "            \"files\": [],\n",
    "            \"providers_used\": [],\n",
    "            \"filter\": \"\",\n",
    "            \"warnings\": [msg],\n",
    "        }\n",
    "    \n",
    "    used_providers = set(providers) if providers else DEFAULT_PROVIDERS\n",
    "    logging.info(f\"[raw] providers={used_providers} filter={filt}\")\n",
    "\n",
    "    try:\n",
    "        client = OptimadeClient(\n",
    "            include_providers=used_providers,\n",
    "            max_results_per_provider=max_results_per_provider,\n",
    "            http_timeout=60.0 \n",
    "        )\n",
    "        results = client.get(filter=filt)\n",
    "    except Exception as e:\n",
    "        msg = f\"[raw] fetch failed: {e}\"\n",
    "        logging.error(msg)\n",
    "        return {\n",
    "            \"output_dir\": Path(),\n",
    "            \"files\": [],\n",
    "            \"providers_used\": sorted(list(used_providers)),\n",
    "            \"filter\": filt,\n",
    "            \"warnings\": [msg],\n",
    "        }\n",
    "\n",
    "    # timestamped folder + short hash of filter for traceability\n",
    "    tag = filter_to_tag(filt)\n",
    "    ts = datetime.now().strftime(\"%Y%m%d_%H%M%S\")\n",
    "    short = hashlib.sha1(filt.encode(\"utf-8\")).hexdigest()[:8]\n",
    "    out_folder = BASE_OUTPUT_DIR / f\"{tag}_{ts}_{short}\"\n",
    "\n",
    "    files, warns, providers_seen = save_structures(\n",
    "        results, out_folder, max_results_per_provider, as_format == \"cif\"\n",
    "    )\n",
    "\n",
    "    # manifest (handy for downstream)\n",
    "    manifest = {\n",
    "        \"filter\": filt,\n",
    "        \"providers_requested\": sorted(list(used_providers)),\n",
    "        \"providers_seen\": providers_seen,\n",
    "        \"files\": files,\n",
    "        \"warnings\": warns,\n",
    "        \"format\": as_format,\n",
    "        \"max_results_per_provider\": max_results_per_provider,\n",
    "    }\n",
    "    (out_folder / \"summary.json\").write_text(json.dumps(manifest, indent=2))\n",
    "\n",
    "    return {\n",
    "        \"output_dir\": out_folder,\n",
    "        \"files\": files,\n",
    "        # \"providers_used\": sorted(list(set(providers_seen))),\n",
    "        # \"filter\": filt,\n",
    "        # \"warnings\": warns,\n",
    "    }\n",
    "\n",
    "\n"
   ]
  },
  {
   "cell_type": "code",
   "execution_count": 2,
   "metadata": {},
   "outputs": [
    {
     "data": {
      "text/html": [
       "<pre style=\"white-space:pre;overflow-x:auto;line-height:normal;font-family:Menlo,'DejaVu Sans Mono',consolas,'Courier New',monospace\">/opt/anaconda3/envs/optimade/lib/python3.13/site-packages/rich/live.py:231: UserWarning: install \"ipywidgets\" for \n",
       "Jupyter support\n",
       "  warnings.warn('install \"ipywidgets\" for Jupyter support')\n",
       "</pre>\n"
      ],
      "text/plain": [
       "/opt/anaconda3/envs/optimade/lib/python3.13/site-packages/rich/live.py:231: UserWarning: install \"ipywidgets\" for \n",
       "Jupyter support\n",
       "  warnings.warn('install \"ipywidgets\" for Jupyter support')\n"
      ]
     },
     "metadata": {},
     "output_type": "display_data"
    },
    {
     "data": {
      "text/html": [
       "<pre style=\"white-space:pre;overflow-x:auto;line-height:normal;font-family:Menlo,'DejaVu Sans Mono',consolas,'Courier New',monospace\">Retrieved databases from <span style=\"color: #008000; text-decoration-color: #008000; font-weight: bold\">alexandria</span>\n",
       "</pre>\n"
      ],
      "text/plain": [
       "Retrieved databases from \u001b[1;32malexandria\u001b[0m\n"
      ]
     },
     "metadata": {},
     "output_type": "display_data"
    },
    {
     "data": {
      "text/html": [
       "<pre style=\"white-space:pre;overflow-x:auto;line-height:normal;font-family:Menlo,'DejaVu Sans Mono',consolas,'Courier New',monospace\">Retrieved databases from <span style=\"color: #008000; text-decoration-color: #008000; font-weight: bold\">cod</span>\n",
       "</pre>\n"
      ],
      "text/plain": [
       "Retrieved databases from \u001b[1;32mcod\u001b[0m\n"
      ]
     },
     "metadata": {},
     "output_type": "display_data"
    },
    {
     "data": {
      "text/html": [
       "<pre style=\"white-space:pre;overflow-x:auto;line-height:normal;font-family:Menlo,'DejaVu Sans Mono',consolas,'Courier New',monospace\">Retrieved databases from <span style=\"color: #008000; text-decoration-color: #008000; font-weight: bold\">cmr</span>\n",
       "</pre>\n"
      ],
      "text/plain": [
       "Retrieved databases from \u001b[1;32mcmr\u001b[0m\n"
      ]
     },
     "metadata": {},
     "output_type": "display_data"
    },
    {
     "data": {
      "text/html": [
       "<pre style=\"white-space:pre;overflow-x:auto;line-height:normal;font-family:Menlo,'DejaVu Sans Mono',consolas,'Courier New',monospace\">Retrieved databases from <span style=\"color: #008000; text-decoration-color: #008000; font-weight: bold\">mcloud</span>\n",
       "</pre>\n"
      ],
      "text/plain": [
       "Retrieved databases from \u001b[1;32mmcloud\u001b[0m\n"
      ]
     },
     "metadata": {},
     "output_type": "display_data"
    },
    {
     "data": {
      "text/html": [
       "<pre style=\"white-space:pre;overflow-x:auto;line-height:normal;font-family:Menlo,'DejaVu Sans Mono',consolas,'Courier New',monospace\">Retrieved databases from <span style=\"color: #008000; text-decoration-color: #008000; font-weight: bold\">mcloudarchive</span>\n",
       "</pre>\n"
      ],
      "text/plain": [
       "Retrieved databases from \u001b[1;32mmcloudarchive\u001b[0m\n"
      ]
     },
     "metadata": {},
     "output_type": "display_data"
    },
    {
     "data": {
      "text/html": [
       "<pre style=\"white-space:pre;overflow-x:auto;line-height:normal;font-family:Menlo,'DejaVu Sans Mono',consolas,'Courier New',monospace\">Retrieved databases from <span style=\"color: #008000; text-decoration-color: #008000; font-weight: bold\">mp</span>\n",
       "</pre>\n"
      ],
      "text/plain": [
       "Retrieved databases from \u001b[1;32mmp\u001b[0m\n"
      ]
     },
     "metadata": {},
     "output_type": "display_data"
    },
    {
     "data": {
      "text/html": [
       "<pre style=\"white-space:pre;overflow-x:auto;line-height:normal;font-family:Menlo,'DejaVu Sans Mono',consolas,'Courier New',monospace\">Retrieved databases from <span style=\"color: #008000; text-decoration-color: #008000; font-weight: bold\">mpdd</span>\n",
       "</pre>\n"
      ],
      "text/plain": [
       "Retrieved databases from \u001b[1;32mmpdd\u001b[0m\n"
      ]
     },
     "metadata": {},
     "output_type": "display_data"
    },
    {
     "data": {
      "text/html": [
       "<pre style=\"white-space:pre;overflow-x:auto;line-height:normal;font-family:Menlo,'DejaVu Sans Mono',consolas,'Courier New',monospace\">Retrieved databases from <span style=\"color: #008000; text-decoration-color: #008000; font-weight: bold\">mpds</span>\n",
       "</pre>\n"
      ],
      "text/plain": [
       "Retrieved databases from \u001b[1;32mmpds\u001b[0m\n"
      ]
     },
     "metadata": {},
     "output_type": "display_data"
    },
    {
     "data": {
      "text/html": [
       "<pre style=\"white-space:pre;overflow-x:auto;line-height:normal;font-family:Menlo,'DejaVu Sans Mono',consolas,'Courier New',monospace\">Retrieved databases from <span style=\"color: #008000; text-decoration-color: #008000; font-weight: bold\">nmd</span>\n",
       "</pre>\n"
      ],
      "text/plain": [
       "Retrieved databases from \u001b[1;32mnmd\u001b[0m\n"
      ]
     },
     "metadata": {},
     "output_type": "display_data"
    },
    {
     "data": {
      "text/html": [
       "<pre style=\"white-space:pre;overflow-x:auto;line-height:normal;font-family:Menlo,'DejaVu Sans Mono',consolas,'Courier New',monospace\">Retrieved databases from <span style=\"color: #008000; text-decoration-color: #008000; font-weight: bold\">odbx</span>\n",
       "</pre>\n"
      ],
      "text/plain": [
       "Retrieved databases from \u001b[1;32modbx\u001b[0m\n"
      ]
     },
     "metadata": {},
     "output_type": "display_data"
    },
    {
     "data": {
      "text/html": [
       "<pre style=\"white-space:pre;overflow-x:auto;line-height:normal;font-family:Menlo,'DejaVu Sans Mono',consolas,'Courier New',monospace\">Retrieved databases from <span style=\"color: #008000; text-decoration-color: #008000; font-weight: bold\">omdb</span>\n",
       "</pre>\n"
      ],
      "text/plain": [
       "Retrieved databases from \u001b[1;32momdb\u001b[0m\n"
      ]
     },
     "metadata": {},
     "output_type": "display_data"
    },
    {
     "data": {
      "text/html": [
       "<pre style=\"white-space:pre;overflow-x:auto;line-height:normal;font-family:Menlo,'DejaVu Sans Mono',consolas,'Courier New',monospace\">Retrieved databases from <span style=\"color: #008000; text-decoration-color: #008000; font-weight: bold\">oqmd</span>\n",
       "</pre>\n"
      ],
      "text/plain": [
       "Retrieved databases from \u001b[1;32moqmd\u001b[0m\n"
      ]
     },
     "metadata": {},
     "output_type": "display_data"
    },
    {
     "data": {
      "text/html": [
       "<pre style=\"white-space:pre;overflow-x:auto;line-height:normal;font-family:Menlo,'DejaVu Sans Mono',consolas,'Courier New',monospace\">Retrieved databases from <span style=\"color: #008000; text-decoration-color: #008000; font-weight: bold\">jarvis</span>\n",
       "</pre>\n"
      ],
      "text/plain": [
       "Retrieved databases from \u001b[1;32mjarvis\u001b[0m\n"
      ]
     },
     "metadata": {},
     "output_type": "display_data"
    },
    {
     "data": {
      "text/html": [
       "<pre style=\"white-space:pre;overflow-x:auto;line-height:normal;font-family:Menlo,'DejaVu Sans Mono',consolas,'Courier New',monospace\">Retrieved databases from <span style=\"color: #008000; text-decoration-color: #008000; font-weight: bold\">tcod</span>\n",
       "</pre>\n"
      ],
      "text/plain": [
       "Retrieved databases from \u001b[1;32mtcod\u001b[0m\n"
      ]
     },
     "metadata": {},
     "output_type": "display_data"
    },
    {
     "data": {
      "text/html": [
       "<pre style=\"white-space:pre;overflow-x:auto;line-height:normal;font-family:Menlo,'DejaVu Sans Mono',consolas,'Courier New',monospace\">Retrieved databases from <span style=\"color: #008000; text-decoration-color: #008000; font-weight: bold\">twodmatpedia</span>\n",
       "</pre>\n"
      ],
      "text/plain": [
       "Retrieved databases from \u001b[1;32mtwodmatpedia\u001b[0m\n"
      ]
     },
     "metadata": {},
     "output_type": "display_data"
    },
    {
     "data": {
      "text/html": [
       "<pre style=\"white-space:pre;overflow-x:auto;line-height:normal;font-family:Menlo,'DejaVu Sans Mono',consolas,'Courier New',monospace\"></pre>\n"
      ],
      "text/plain": []
     },
     "metadata": {},
     "output_type": "display_data"
    },
    {
     "data": {
      "text/html": [
       "<pre style=\"white-space:pre;overflow-x:auto;line-height:normal;font-family:Menlo,'DejaVu Sans Mono',consolas,'Courier New',monospace\">╭──────────────────────────────────────────────────────────╮\n",
       "│ Performing query <span style=\"color: #808000; text-decoration-color: #808000; font-weight: bold\">structures</span>/?filter=<span style=\"color: #800080; text-decoration-color: #800080; font-weight: bold; font-style: italic\">elements HAS ALL \"H\"</span> │\n",
       "╰──────────────────────────────────────────────────────────╯\n",
       "</pre>\n"
      ],
      "text/plain": [
       "╭──────────────────────────────────────────────────────────╮\n",
       "│ Performing query \u001b[1;33mstructures\u001b[0m/?filter=\u001b[1;3;35melements HAS ALL \"H\"\u001b[0m │\n",
       "╰──────────────────────────────────────────────────────────╯\n"
      ]
     },
     "metadata": {},
     "output_type": "display_data"
    },
    {
     "data": {
      "text/html": [
       "<pre style=\"white-space:pre;overflow-x:auto;line-height:normal;font-family:Menlo,'DejaVu Sans Mono',consolas,'Courier New',monospace\">Detected a running event loop <span style=\"font-weight: bold\">(</span>e.g., Jupyter<span style=\"font-weight: bold\">)</span>. Attempting to switch to synchronous mode.\n",
       "</pre>\n"
      ],
      "text/plain": [
       "Detected a running event loop \u001b[1m(\u001b[0me.g., Jupyter\u001b[1m)\u001b[0m. Attempting to switch to synchronous mode.\n"
      ]
     },
     "metadata": {},
     "output_type": "display_data"
    },
    {
     "data": {
      "text/html": [
       "<pre style=\"white-space:pre;overflow-x:auto;line-height:normal;font-family:Menlo,'DejaVu Sans Mono',consolas,'Courier New',monospace\">Reached <span style=\"color: #008080; text-decoration-color: #008080; font-weight: bold\">20</span> results for <span style=\"color: #0000ff; text-decoration-color: #0000ff; text-decoration: underline\">https://alexandria.icams.rub.de/pbesol,</span> exceeding `max_results_per_provider` parameter <span style=\"font-weight: bold\">(</span><span style=\"color: #008080; text-decoration-color: #008080; font-weight: bold\">1</span><span style=\"font-weight: bold\">)</span>. \n",
       "Stopping download.\n",
       "</pre>\n"
      ],
      "text/plain": [
       "Reached \u001b[1;36m20\u001b[0m results for \u001b[4;94mhttps://alexandria.icams.rub.de/pbesol,\u001b[0m exceeding `max_results_per_provider` parameter \u001b[1m(\u001b[0m\u001b[1;36m1\u001b[0m\u001b[1m)\u001b[0m. \n",
       "Stopping download.\n"
      ]
     },
     "metadata": {},
     "output_type": "display_data"
    },
    {
     "data": {
      "text/html": [
       "<pre style=\"white-space:pre;overflow-x:auto;line-height:normal;font-family:Menlo,'DejaVu Sans Mono',consolas,'Courier New',monospace\">Reached <span style=\"color: #008080; text-decoration-color: #008080; font-weight: bold\">20</span> results for <span style=\"color: #0000ff; text-decoration-color: #0000ff; text-decoration: underline\">https://alexandria.icams.rub.de/pbe,</span> exceeding `max_results_per_provider` parameter <span style=\"font-weight: bold\">(</span><span style=\"color: #008080; text-decoration-color: #008080; font-weight: bold\">1</span><span style=\"font-weight: bold\">)</span>. \n",
       "Stopping download.\n",
       "</pre>\n"
      ],
      "text/plain": [
       "Reached \u001b[1;36m20\u001b[0m results for \u001b[4;94mhttps://alexandria.icams.rub.de/pbe,\u001b[0m exceeding `max_results_per_provider` parameter \u001b[1m(\u001b[0m\u001b[1;36m1\u001b[0m\u001b[1m)\u001b[0m. \n",
       "Stopping download.\n"
      ]
     },
     "metadata": {},
     "output_type": "display_data"
    },
    {
     "data": {
      "text/html": [
       "<pre style=\"white-space:pre;overflow-x:auto;line-height:normal;font-family:Menlo,'DejaVu Sans Mono',consolas,'Courier New',monospace\">Reached <span style=\"color: #008080; text-decoration-color: #008080; font-weight: bold\">100</span> results for <span style=\"color: #0000ff; text-decoration-color: #0000ff; text-decoration: underline\">https://www.crystallography.net/cod/optimade,</span> exceeding `max_results_per_provider` \n",
       "parameter <span style=\"font-weight: bold\">(</span><span style=\"color: #008080; text-decoration-color: #008080; font-weight: bold\">1</span><span style=\"font-weight: bold\">)</span>. Stopping download.\n",
       "</pre>\n"
      ],
      "text/plain": [
       "Reached \u001b[1;36m100\u001b[0m results for \u001b[4;94mhttps://www.crystallography.net/cod/optimade,\u001b[0m exceeding `max_results_per_provider` \n",
       "parameter \u001b[1m(\u001b[0m\u001b[1;36m1\u001b[0m\u001b[1m)\u001b[0m. Stopping download.\n"
      ]
     },
     "metadata": {},
     "output_type": "display_data"
    },
    {
     "data": {
      "text/html": [
       "<pre style=\"white-space:pre;overflow-x:auto;line-height:normal;font-family:Menlo,'DejaVu Sans Mono',consolas,'Courier New',monospace\">Reached <span style=\"color: #008080; text-decoration-color: #008080; font-weight: bold\">20</span> results for <span style=\"color: #0000ff; text-decoration-color: #0000ff; text-decoration: underline\">https://cmr-optimade.fysik.dtu.dk/,</span> exceeding `max_results_per_provider` parameter <span style=\"font-weight: bold\">(</span><span style=\"color: #008080; text-decoration-color: #008080; font-weight: bold\">1</span><span style=\"font-weight: bold\">)</span>. \n",
       "Stopping download.\n",
       "</pre>\n"
      ],
      "text/plain": [
       "Reached \u001b[1;36m20\u001b[0m results for \u001b[4;94mhttps://cmr-optimade.fysik.dtu.dk/,\u001b[0m exceeding `max_results_per_provider` parameter \u001b[1m(\u001b[0m\u001b[1;36m1\u001b[0m\u001b[1m)\u001b[0m. \n",
       "Stopping download.\n"
      ]
     },
     "metadata": {},
     "output_type": "display_data"
    },
    {
     "data": {
      "text/html": [
       "<pre style=\"white-space:pre;overflow-x:auto;line-height:normal;font-family:Menlo,'DejaVu Sans Mono',consolas,'Courier New',monospace\">Reached <span style=\"color: #008080; text-decoration-color: #008080; font-weight: bold\">20</span> results for <span style=\"color: #0000ff; text-decoration-color: #0000ff; text-decoration: underline\">https://optimade.materialscloud.io/main/mc3d-pbe-v1,</span> exceeding `max_results_per_provider` \n",
       "parameter <span style=\"font-weight: bold\">(</span><span style=\"color: #008080; text-decoration-color: #008080; font-weight: bold\">1</span><span style=\"font-weight: bold\">)</span>. Stopping download.\n",
       "</pre>\n"
      ],
      "text/plain": [
       "Reached \u001b[1;36m20\u001b[0m results for \u001b[4;94mhttps://optimade.materialscloud.io/main/mc3d-pbe-v1,\u001b[0m exceeding `max_results_per_provider` \n",
       "parameter \u001b[1m(\u001b[0m\u001b[1;36m1\u001b[0m\u001b[1m)\u001b[0m. Stopping download.\n"
      ]
     },
     "metadata": {},
     "output_type": "display_data"
    },
    {
     "data": {
      "text/html": [
       "<pre style=\"white-space:pre;overflow-x:auto;line-height:normal;font-family:Menlo,'DejaVu Sans Mono',consolas,'Courier New',monospace\">Reached <span style=\"color: #008080; text-decoration-color: #008080; font-weight: bold\">20</span> results for <span style=\"color: #0000ff; text-decoration-color: #0000ff; text-decoration: underline\">https://optimade.materialscloud.io/main/mc2d,</span> exceeding `max_results_per_provider` parameter\n",
       "<span style=\"font-weight: bold\">(</span><span style=\"color: #008080; text-decoration-color: #008080; font-weight: bold\">1</span><span style=\"font-weight: bold\">)</span>. Stopping download.\n",
       "</pre>\n"
      ],
      "text/plain": [
       "Reached \u001b[1;36m20\u001b[0m results for \u001b[4;94mhttps://optimade.materialscloud.io/main/mc2d,\u001b[0m exceeding `max_results_per_provider` parameter\n",
       "\u001b[1m(\u001b[0m\u001b[1;36m1\u001b[0m\u001b[1m)\u001b[0m. Stopping download.\n"
      ]
     },
     "metadata": {},
     "output_type": "display_data"
    },
    {
     "data": {
      "text/html": [
       "<pre style=\"white-space:pre;overflow-x:auto;line-height:normal;font-family:Menlo,'DejaVu Sans Mono',consolas,'Courier New',monospace\">Reached <span style=\"color: #008080; text-decoration-color: #008080; font-weight: bold\">10</span> results for <span style=\"color: #0000ff; text-decoration-color: #0000ff; text-decoration: underline\">https://optimade.materialscloud.io/main/2dtopo,</span> exceeding `max_results_per_provider` \n",
       "parameter <span style=\"font-weight: bold\">(</span><span style=\"color: #008080; text-decoration-color: #008080; font-weight: bold\">1</span><span style=\"font-weight: bold\">)</span>. Stopping download.\n",
       "</pre>\n"
      ],
      "text/plain": [
       "Reached \u001b[1;36m10\u001b[0m results for \u001b[4;94mhttps://optimade.materialscloud.io/main/2dtopo,\u001b[0m exceeding `max_results_per_provider` \n",
       "parameter \u001b[1m(\u001b[0m\u001b[1;36m1\u001b[0m\u001b[1m)\u001b[0m. Stopping download.\n"
      ]
     },
     "metadata": {},
     "output_type": "display_data"
    },
    {
     "data": {
      "text/html": [
       "<pre style=\"white-space:pre;overflow-x:auto;line-height:normal;font-family:Menlo,'DejaVu Sans Mono',consolas,'Courier New',monospace\">Reached <span style=\"color: #008080; text-decoration-color: #008080; font-weight: bold\">20</span> results for <span style=\"color: #0000ff; text-decoration-color: #0000ff; text-decoration: underline\">https://optimade.materialscloud.io/main/pyrene-mofs,</span> exceeding `max_results_per_provider` \n",
       "parameter <span style=\"font-weight: bold\">(</span><span style=\"color: #008080; text-decoration-color: #008080; font-weight: bold\">1</span><span style=\"font-weight: bold\">)</span>. Stopping download.\n",
       "</pre>\n"
      ],
      "text/plain": [
       "Reached \u001b[1;36m20\u001b[0m results for \u001b[4;94mhttps://optimade.materialscloud.io/main/pyrene-mofs,\u001b[0m exceeding `max_results_per_provider` \n",
       "parameter \u001b[1m(\u001b[0m\u001b[1;36m1\u001b[0m\u001b[1m)\u001b[0m. Stopping download.\n"
      ]
     },
     "metadata": {},
     "output_type": "display_data"
    },
    {
     "data": {
      "text/html": [
       "<pre style=\"white-space:pre;overflow-x:auto;line-height:normal;font-family:Menlo,'DejaVu Sans Mono',consolas,'Courier New',monospace\">Reached <span style=\"color: #008080; text-decoration-color: #008080; font-weight: bold\">20</span> results for <span style=\"color: #0000ff; text-decoration-color: #0000ff; text-decoration: underline\">https://optimade.materialscloud.io/main/curated-cofs,</span> exceeding `max_results_per_provider` \n",
       "parameter <span style=\"font-weight: bold\">(</span><span style=\"color: #008080; text-decoration-color: #008080; font-weight: bold\">1</span><span style=\"font-weight: bold\">)</span>. Stopping download.\n",
       "</pre>\n"
      ],
      "text/plain": [
       "Reached \u001b[1;36m20\u001b[0m results for \u001b[4;94mhttps://optimade.materialscloud.io/main/curated-cofs,\u001b[0m exceeding `max_results_per_provider` \n",
       "parameter \u001b[1m(\u001b[0m\u001b[1;36m1\u001b[0m\u001b[1m)\u001b[0m. Stopping download.\n"
      ]
     },
     "metadata": {},
     "output_type": "display_data"
    },
    {
     "data": {
      "text/html": [
       "<pre style=\"white-space:pre;overflow-x:auto;line-height:normal;font-family:Menlo,'DejaVu Sans Mono',consolas,'Courier New',monospace\">Reached <span style=\"color: #008080; text-decoration-color: #008080; font-weight: bold\">20</span> results for <span style=\"color: #0000ff; text-decoration-color: #0000ff; text-decoration: underline\">https://optimade.materialscloud.io/main/autowannier,</span> exceeding `max_results_per_provider` \n",
       "parameter <span style=\"font-weight: bold\">(</span><span style=\"color: #008080; text-decoration-color: #008080; font-weight: bold\">1</span><span style=\"font-weight: bold\">)</span>. Stopping download.\n",
       "</pre>\n"
      ],
      "text/plain": [
       "Reached \u001b[1;36m20\u001b[0m results for \u001b[4;94mhttps://optimade.materialscloud.io/main/autowannier,\u001b[0m exceeding `max_results_per_provider` \n",
       "parameter \u001b[1m(\u001b[0m\u001b[1;36m1\u001b[0m\u001b[1m)\u001b[0m. Stopping download.\n"
      ]
     },
     "metadata": {},
     "output_type": "display_data"
    },
    {
     "data": {
      "text/html": [
       "<pre style=\"white-space:pre;overflow-x:auto;line-height:normal;font-family:Menlo,'DejaVu Sans Mono',consolas,'Courier New',monospace\">Reached <span style=\"color: #008080; text-decoration-color: #008080; font-weight: bold\">20</span> results for <span style=\"color: #0000ff; text-decoration-color: #0000ff; text-decoration: underline\">https://optimade.materialscloud.org/archive/zk-gc,</span> exceeding `max_results_per_provider` \n",
       "parameter <span style=\"font-weight: bold\">(</span><span style=\"color: #008080; text-decoration-color: #008080; font-weight: bold\">1</span><span style=\"font-weight: bold\">)</span>. Stopping download.\n",
       "</pre>\n"
      ],
      "text/plain": [
       "Reached \u001b[1;36m20\u001b[0m results for \u001b[4;94mhttps://optimade.materialscloud.org/archive/zk-gc,\u001b[0m exceeding `max_results_per_provider` \n",
       "parameter \u001b[1m(\u001b[0m\u001b[1;36m1\u001b[0m\u001b[1m)\u001b[0m. Stopping download.\n"
      ]
     },
     "metadata": {},
     "output_type": "display_data"
    },
    {
     "data": {
      "text/html": [
       "<pre style=\"white-space:pre;overflow-x:auto;line-height:normal;font-family:Menlo,'DejaVu Sans Mono',consolas,'Courier New',monospace\">Reached <span style=\"color: #008080; text-decoration-color: #008080; font-weight: bold\">20</span> results for <span style=\"color: #0000ff; text-decoration-color: #0000ff; text-decoration: underline\">https://optimade.materialscloud.org/archive/5p-vq,</span> exceeding `max_results_per_provider` \n",
       "parameter <span style=\"font-weight: bold\">(</span><span style=\"color: #008080; text-decoration-color: #008080; font-weight: bold\">1</span><span style=\"font-weight: bold\">)</span>. Stopping download.\n",
       "</pre>\n"
      ],
      "text/plain": [
       "Reached \u001b[1;36m20\u001b[0m results for \u001b[4;94mhttps://optimade.materialscloud.org/archive/5p-vq,\u001b[0m exceeding `max_results_per_provider` \n",
       "parameter \u001b[1m(\u001b[0m\u001b[1;36m1\u001b[0m\u001b[1m)\u001b[0m. Stopping download.\n"
      ]
     },
     "metadata": {},
     "output_type": "display_data"
    },
    {
     "data": {
      "text/html": [
       "<pre style=\"white-space:pre;overflow-x:auto;line-height:normal;font-family:Menlo,'DejaVu Sans Mono',consolas,'Courier New',monospace\">Reached <span style=\"color: #008080; text-decoration-color: #008080; font-weight: bold\">20</span> results for <span style=\"color: #0000ff; text-decoration-color: #0000ff; text-decoration: underline\">https://optimade.materialsproject.org/,</span> exceeding `max_results_per_provider` parameter <span style=\"font-weight: bold\">(</span><span style=\"color: #008080; text-decoration-color: #008080; font-weight: bold\">1</span><span style=\"font-weight: bold\">)</span>. \n",
       "Stopping download.\n",
       "</pre>\n"
      ],
      "text/plain": [
       "Reached \u001b[1;36m20\u001b[0m results for \u001b[4;94mhttps://optimade.materialsproject.org/,\u001b[0m exceeding `max_results_per_provider` parameter \u001b[1m(\u001b[0m\u001b[1;36m1\u001b[0m\u001b[1m)\u001b[0m. \n",
       "Stopping download.\n"
      ]
     },
     "metadata": {},
     "output_type": "display_data"
    },
    {
     "data": {
      "text/html": [
       "<pre style=\"white-space:pre;overflow-x:auto;line-height:normal;font-family:Menlo,'DejaVu Sans Mono',consolas,'Courier New',monospace\">Reached <span style=\"color: #008080; text-decoration-color: #008080; font-weight: bold\">20</span> results for <span style=\"color: #0000ff; text-decoration-color: #0000ff; text-decoration: underline\">http://mpddoptimade.phaseslab.org/,</span> exceeding `max_results_per_provider` parameter <span style=\"font-weight: bold\">(</span><span style=\"color: #008080; text-decoration-color: #008080; font-weight: bold\">1</span><span style=\"font-weight: bold\">)</span>. \n",
       "Stopping download.\n",
       "</pre>\n"
      ],
      "text/plain": [
       "Reached \u001b[1;36m20\u001b[0m results for \u001b[4;94mhttp://mpddoptimade.phaseslab.org/,\u001b[0m exceeding `max_results_per_provider` parameter \u001b[1m(\u001b[0m\u001b[1;36m1\u001b[0m\u001b[1m)\u001b[0m. \n",
       "Stopping download.\n"
      ]
     },
     "metadata": {},
     "output_type": "display_data"
    },
    {
     "data": {
      "text/html": [
       "<pre style=\"white-space:pre;overflow-x:auto;line-height:normal;font-family:Menlo,'DejaVu Sans Mono',consolas,'Courier New',monospace\">Reached <span style=\"color: #008080; text-decoration-color: #008080; font-weight: bold\">10</span> results for <span style=\"color: #0000ff; text-decoration-color: #0000ff; text-decoration: underline\">https://api.mpds.io/,</span> exceeding `max_results_per_provider` parameter <span style=\"font-weight: bold\">(</span><span style=\"color: #008080; text-decoration-color: #008080; font-weight: bold\">1</span><span style=\"font-weight: bold\">)</span>. Stopping download.\n",
       "</pre>\n"
      ],
      "text/plain": [
       "Reached \u001b[1;36m10\u001b[0m results for \u001b[4;94mhttps://api.mpds.io/,\u001b[0m exceeding `max_results_per_provider` parameter \u001b[1m(\u001b[0m\u001b[1;36m1\u001b[0m\u001b[1m)\u001b[0m. Stopping download.\n"
      ]
     },
     "metadata": {},
     "output_type": "display_data"
    },
    {
     "data": {
      "text/html": [
       "<pre style=\"white-space:pre;overflow-x:auto;line-height:normal;font-family:Menlo,'DejaVu Sans Mono',consolas,'Courier New',monospace\">Reached <span style=\"color: #008080; text-decoration-color: #008080; font-weight: bold\">20</span> results for <span style=\"color: #0000ff; text-decoration-color: #0000ff; text-decoration: underline\">https://nomad-lab.eu/prod/rae/optimade/,</span> exceeding `max_results_per_provider` parameter <span style=\"font-weight: bold\">(</span><span style=\"color: #008080; text-decoration-color: #008080; font-weight: bold\">1</span><span style=\"font-weight: bold\">)</span>.\n",
       "Stopping download.\n",
       "</pre>\n"
      ],
      "text/plain": [
       "Reached \u001b[1;36m20\u001b[0m results for \u001b[4;94mhttps://nomad-lab.eu/prod/rae/optimade/,\u001b[0m exceeding `max_results_per_provider` parameter \u001b[1m(\u001b[0m\u001b[1;36m1\u001b[0m\u001b[1m)\u001b[0m.\n",
       "Stopping download.\n"
      ]
     },
     "metadata": {},
     "output_type": "display_data"
    },
    {
     "data": {
      "text/html": [
       "<pre style=\"white-space:pre;overflow-x:auto;line-height:normal;font-family:Menlo,'DejaVu Sans Mono',consolas,'Courier New',monospace\">Reached <span style=\"color: #008080; text-decoration-color: #008080; font-weight: bold\">20</span> results for <span style=\"color: #0000ff; text-decoration-color: #0000ff; text-decoration: underline\">https://optimade-misc.odbx.science/,</span> exceeding `max_results_per_provider` parameter <span style=\"font-weight: bold\">(</span><span style=\"color: #008080; text-decoration-color: #008080; font-weight: bold\">1</span><span style=\"font-weight: bold\">)</span>. \n",
       "Stopping download.\n",
       "</pre>\n"
      ],
      "text/plain": [
       "Reached \u001b[1;36m20\u001b[0m results for \u001b[4;94mhttps://optimade-misc.odbx.science/,\u001b[0m exceeding `max_results_per_provider` parameter \u001b[1m(\u001b[0m\u001b[1;36m1\u001b[0m\u001b[1m)\u001b[0m. \n",
       "Stopping download.\n"
      ]
     },
     "metadata": {},
     "output_type": "display_data"
    },
    {
     "data": {
      "text/html": [
       "<pre style=\"white-space:pre;overflow-x:auto;line-height:normal;font-family:Menlo,'DejaVu Sans Mono',consolas,'Courier New',monospace\">Reached <span style=\"color: #008080; text-decoration-color: #008080; font-weight: bold\">20</span> results for <span style=\"color: #0000ff; text-decoration-color: #0000ff; text-decoration: underline\">https://optimade-gnome.odbx.science/,</span> exceeding `max_results_per_provider` parameter <span style=\"font-weight: bold\">(</span><span style=\"color: #008080; text-decoration-color: #008080; font-weight: bold\">1</span><span style=\"font-weight: bold\">)</span>. \n",
       "Stopping download.\n",
       "</pre>\n"
      ],
      "text/plain": [
       "Reached \u001b[1;36m20\u001b[0m results for \u001b[4;94mhttps://optimade-gnome.odbx.science/,\u001b[0m exceeding `max_results_per_provider` parameter \u001b[1m(\u001b[0m\u001b[1;36m1\u001b[0m\u001b[1m)\u001b[0m. \n",
       "Stopping download.\n"
      ]
     },
     "metadata": {},
     "output_type": "display_data"
    },
    {
     "data": {
      "text/html": [
       "<pre style=\"white-space:pre;overflow-x:auto;line-height:normal;font-family:Menlo,'DejaVu Sans Mono',consolas,'Courier New',monospace\">Reached <span style=\"color: #008080; text-decoration-color: #008080; font-weight: bold\">50</span> results for <span style=\"color: #0000ff; text-decoration-color: #0000ff; text-decoration: underline\">http://optimade.openmaterialsdb.se/,</span> exceeding `max_results_per_provider` parameter <span style=\"font-weight: bold\">(</span><span style=\"color: #008080; text-decoration-color: #008080; font-weight: bold\">1</span><span style=\"font-weight: bold\">)</span>. \n",
       "Stopping download.\n",
       "</pre>\n"
      ],
      "text/plain": [
       "Reached \u001b[1;36m50\u001b[0m results for \u001b[4;94mhttp://optimade.openmaterialsdb.se/,\u001b[0m exceeding `max_results_per_provider` parameter \u001b[1m(\u001b[0m\u001b[1;36m1\u001b[0m\u001b[1m)\u001b[0m. \n",
       "Stopping download.\n"
      ]
     },
     "metadata": {},
     "output_type": "display_data"
    },
    {
     "data": {
      "text/html": [
       "<pre style=\"white-space:pre;overflow-x:auto;line-height:normal;font-family:Menlo,'DejaVu Sans Mono',consolas,'Courier New',monospace\">Reached <span style=\"color: #008080; text-decoration-color: #008080; font-weight: bold\">50</span> results for <span style=\"color: #0000ff; text-decoration-color: #0000ff; text-decoration: underline\">https://oqmd.org/optimade/,</span> exceeding `max_results_per_provider` parameter <span style=\"font-weight: bold\">(</span><span style=\"color: #008080; text-decoration-color: #008080; font-weight: bold\">1</span><span style=\"font-weight: bold\">)</span>. Stopping \n",
       "download.\n",
       "</pre>\n"
      ],
      "text/plain": [
       "Reached \u001b[1;36m50\u001b[0m results for \u001b[4;94mhttps://oqmd.org/optimade/,\u001b[0m exceeding `max_results_per_provider` parameter \u001b[1m(\u001b[0m\u001b[1;36m1\u001b[0m\u001b[1m)\u001b[0m. Stopping \n",
       "download.\n"
      ]
     },
     "metadata": {},
     "output_type": "display_data"
    },
    {
     "data": {
      "text/html": [
       "<pre style=\"white-space:pre;overflow-x:auto;line-height:normal;font-family:Menlo,'DejaVu Sans Mono',consolas,'Courier New',monospace\">Reached <span style=\"color: #008080; text-decoration-color: #008080; font-weight: bold\">20</span> results for <span style=\"color: #0000ff; text-decoration-color: #0000ff; text-decoration: underline\">https://jarvis.nist.gov/optimade/jarvisdft,</span> exceeding `max_results_per_provider` parameter \n",
       "<span style=\"font-weight: bold\">(</span><span style=\"color: #008080; text-decoration-color: #008080; font-weight: bold\">1</span><span style=\"font-weight: bold\">)</span>. Stopping download.\n",
       "</pre>\n"
      ],
      "text/plain": [
       "Reached \u001b[1;36m20\u001b[0m results for \u001b[4;94mhttps://jarvis.nist.gov/optimade/jarvisdft,\u001b[0m exceeding `max_results_per_provider` parameter \n",
       "\u001b[1m(\u001b[0m\u001b[1;36m1\u001b[0m\u001b[1m)\u001b[0m. Stopping download.\n"
      ]
     },
     "metadata": {},
     "output_type": "display_data"
    },
    {
     "data": {
      "text/html": [
       "<pre style=\"white-space:pre;overflow-x:auto;line-height:normal;font-family:Menlo,'DejaVu Sans Mono',consolas,'Courier New',monospace\">Reached <span style=\"color: #008080; text-decoration-color: #008080; font-weight: bold\">100</span> results for <span style=\"color: #0000ff; text-decoration-color: #0000ff; text-decoration: underline\">https://www.crystallography.net/tcod/optimade,</span> exceeding `max_results_per_provider` \n",
       "parameter <span style=\"font-weight: bold\">(</span><span style=\"color: #008080; text-decoration-color: #008080; font-weight: bold\">1</span><span style=\"font-weight: bold\">)</span>. Stopping download.\n",
       "</pre>\n"
      ],
      "text/plain": [
       "Reached \u001b[1;36m100\u001b[0m results for \u001b[4;94mhttps://www.crystallography.net/tcod/optimade,\u001b[0m exceeding `max_results_per_provider` \n",
       "parameter \u001b[1m(\u001b[0m\u001b[1;36m1\u001b[0m\u001b[1m)\u001b[0m. Stopping download.\n"
      ]
     },
     "metadata": {},
     "output_type": "display_data"
    },
    {
     "data": {
      "text/html": [
       "<pre style=\"white-space:pre;overflow-x:auto;line-height:normal;font-family:Menlo,'DejaVu Sans Mono',consolas,'Courier New',monospace\">Reached <span style=\"color: #008080; text-decoration-color: #008080; font-weight: bold\">20</span> results for <span style=\"color: #0000ff; text-decoration-color: #0000ff; text-decoration: underline\">http://optimade.2dmatpedia.org/,</span> exceeding `max_results_per_provider` parameter <span style=\"font-weight: bold\">(</span><span style=\"color: #008080; text-decoration-color: #008080; font-weight: bold\">1</span><span style=\"font-weight: bold\">)</span>. \n",
       "Stopping download.\n",
       "</pre>\n"
      ],
      "text/plain": [
       "Reached \u001b[1;36m20\u001b[0m results for \u001b[4;94mhttp://optimade.2dmatpedia.org/,\u001b[0m exceeding `max_results_per_provider` parameter \u001b[1m(\u001b[0m\u001b[1;36m1\u001b[0m\u001b[1m)\u001b[0m. \n",
       "Stopping download.\n"
      ]
     },
     "metadata": {},
     "output_type": "display_data"
    },
    {
     "data": {
      "text/html": [
       "<pre style=\"white-space:pre;overflow-x:auto;line-height:normal;font-family:Menlo,'DejaVu Sans Mono',consolas,'Courier New',monospace\"></pre>\n"
      ],
      "text/plain": []
     },
     "metadata": {},
     "output_type": "display_data"
    },
    {
     "name": "stdout",
     "output_type": "stream",
     "text": [
      "=== GAMMA-TiAl (L10) ===\n",
      "Filter: elements HAS ALL \"H\" \n",
      "Output dir: materials_data/elements_HAS_ALL_H_20250814_142341_16e525f9\n",
      "Files: ['materials_data/elements_HAS_ALL_H_20250814_142341_16e525f9/alexandria_icams_rub_de_pbesol_0.json', 'materials_data/elements_HAS_ALL_H_20250814_142341_16e525f9/alexandria_icams_rub_de_pbe_0.json', 'materials_data/elements_HAS_ALL_H_20250814_142341_16e525f9/www_crystallography_net_cod_optimade_0.json', 'materials_data/elements_HAS_ALL_H_20250814_142341_16e525f9/cmr-optimade_fysik_dtu_dk_0.json', 'materials_data/elements_HAS_ALL_H_20250814_142341_16e525f9/optimade_materialscloud_io_main_mc3d-pbe-v1_0.json', 'materials_data/elements_HAS_ALL_H_20250814_142341_16e525f9/optimade_materialscloud_io_main_mc2d_0.json', 'materials_data/elements_HAS_ALL_H_20250814_142341_16e525f9/optimade_materialscloud_io_main_2dtopo_0.json', 'materials_data/elements_HAS_ALL_H_20250814_142341_16e525f9/optimade_materialscloud_io_main_pyrene-mofs_0.json', 'materials_data/elements_HAS_ALL_H_20250814_142341_16e525f9/optimade_materialscloud_io_main_curated-cofs_0.json', 'materials_data/elements_HAS_ALL_H_20250814_142341_16e525f9/optimade_materialscloud_io_main_autowannier_0.json', 'materials_data/elements_HAS_ALL_H_20250814_142341_16e525f9/optimade_materialscloud_org_archive_zk-gc_0.json', 'materials_data/elements_HAS_ALL_H_20250814_142341_16e525f9/optimade_materialscloud_org_archive_5p-vq_0.json', 'materials_data/elements_HAS_ALL_H_20250814_142341_16e525f9/optimade_materialsproject_org_0.json', 'materials_data/elements_HAS_ALL_H_20250814_142341_16e525f9/mpddoptimade_phaseslab_org_0.json', 'materials_data/elements_HAS_ALL_H_20250814_142341_16e525f9/api_mpds_io_0.json', 'materials_data/elements_HAS_ALL_H_20250814_142341_16e525f9/nomad-lab_eu_prod_rae_optimade_0.json', 'materials_data/elements_HAS_ALL_H_20250814_142341_16e525f9/optimade-misc_odbx_science_0.json', 'materials_data/elements_HAS_ALL_H_20250814_142341_16e525f9/optimade-gnome_odbx_science_0.json', 'materials_data/elements_HAS_ALL_H_20250814_142341_16e525f9/optimade_openmaterialsdb_se_0.json', 'materials_data/elements_HAS_ALL_H_20250814_142341_16e525f9/oqmd_org_optimade_0.json', 'materials_data/elements_HAS_ALL_H_20250814_142341_16e525f9/jarvis_nist_gov_optimade_jarvisdft_0.json', 'materials_data/elements_HAS_ALL_H_20250814_142341_16e525f9/www_crystallography_net_tcod_optimade_0.json', 'materials_data/elements_HAS_ALL_H_20250814_142341_16e525f9/optimade_2dmatpedia_org_0.json']\n"
     ]
    }
   ],
   "source": [
    "gamma_tial_filter = (\n",
    "    'elements HAS ALL \"H\" '\n",
    ")\n",
    "\n",
    "result = fetch_structures_with_filter(\n",
    "        filter=gamma_tial_filter,\n",
    "        as_format=\"json\",\n",
    "        max_results_per_provider=1,\n",
    ")\n",
    "print(\"=== GAMMA-TiAl (L10) ===\")\n",
    "print(\"Filter:\", gamma_tial_filter)\n",
    "print(\"Output dir:\", result[\"output_dir\"])\n",
    "print(\"Files:\", result[\"files\"])\n"
   ]
  },
  {
   "cell_type": "code",
   "execution_count": 19,
   "metadata": {},
   "outputs": [
    {
     "data": {
      "text/html": [
       "<pre style=\"white-space:pre;overflow-x:auto;line-height:normal;font-family:Menlo,'DejaVu Sans Mono',consolas,'Courier New',monospace\">Retrieved databases from <span style=\"color: #008000; text-decoration-color: #008000; font-weight: bold\">cod</span>\n",
       "</pre>\n"
      ],
      "text/plain": [
       "Retrieved databases from \u001b[1;32mcod\u001b[0m\n"
      ]
     },
     "metadata": {},
     "output_type": "display_data"
    },
    {
     "data": {
      "text/html": [
       "<pre style=\"white-space:pre;overflow-x:auto;line-height:normal;font-family:Menlo,'DejaVu Sans Mono',consolas,'Courier New',monospace\">Retrieved databases from <span style=\"color: #008000; text-decoration-color: #008000; font-weight: bold\">oqmd</span>\n",
       "</pre>\n"
      ],
      "text/plain": [
       "Retrieved databases from \u001b[1;32moqmd\u001b[0m\n"
      ]
     },
     "metadata": {},
     "output_type": "display_data"
    },
    {
     "data": {
      "text/html": [
       "<pre style=\"white-space:pre;overflow-x:auto;line-height:normal;font-family:Menlo,'DejaVu Sans Mono',consolas,'Courier New',monospace\"></pre>\n"
      ],
      "text/plain": []
     },
     "metadata": {},
     "output_type": "display_data"
    },
    {
     "data": {
      "text/html": [
       "<pre style=\"white-space:pre;overflow-x:auto;line-height:normal;font-family:Menlo,'DejaVu Sans Mono',consolas,'Courier New',monospace\"><span style=\"color: #800000; text-decoration-color: #800000; font-weight: bold\">Filter </span><span style=\"color: #000080; text-decoration-color: #000080; font-weight: bold; font-style: italic\">'elements HAS ALL \"Ti\", \"Al\" AND _cod_sgNumber=123'</span><span style=\"color: #800000; text-decoration-color: #800000; font-weight: bold\"> could not be parsed as an OPTIMADE filter.</span>\n",
       "╭─────────────────────────────────────────────────────────────────────────────────────────────────────────────────╮\n",
       "│ <span style=\"color: #800080; text-decoration-color: #800080\">Unable to parse filter elements HAS ALL \"Ti\", \"Al\" AND _cod_sgNumber=123. Lark traceback: </span>                      │\n",
       "│ <span style=\"color: #800080; text-decoration-color: #800080\">No terminal matches 'N' in the current parser context, at line 1 col 40</span>                                         │\n",
       "│                                                                                                                 │\n",
       "│ <span style=\"color: #800080; text-decoration-color: #800080\">elements HAS ALL \"Ti\", \"Al\" AND _cod_sgNumber=123</span>                                                               │\n",
       "│ <span style=\"color: #800080; text-decoration-color: #800080\">                                       ^</span>                                                                        │\n",
       "│ <span style=\"color: #800080; text-decoration-color: #800080\">Expected one of: </span>                                                                                               │\n",
       "│ <span style=\"color: #800080; text-decoration-color: #800080\">        * IS</span>                                                                                                    │\n",
       "│ <span style=\"color: #800080; text-decoration-color: #800080\">        * CONTAINS</span>                                                                                              │\n",
       "│ <span style=\"color: #800080; text-decoration-color: #800080\">        * HAS</span>                                                                                                   │\n",
       "│ <span style=\"color: #800080; text-decoration-color: #800080\">        * OPERATOR</span>                                                                                              │\n",
       "│ <span style=\"color: #800080; text-decoration-color: #800080\">        * COLON</span>                                                                                                 │\n",
       "│ <span style=\"color: #800080; text-decoration-color: #800080\">        * STARTS</span>                                                                                                │\n",
       "│ <span style=\"color: #800080; text-decoration-color: #800080\">        * DOT</span>                                                                                                   │\n",
       "│ <span style=\"color: #800080; text-decoration-color: #800080\">        * LENGTH</span>                                                                                                │\n",
       "│ <span style=\"color: #800080; text-decoration-color: #800080\">        * ENDS</span>                                                                                                  │\n",
       "│                                                                                                                 │\n",
       "╰─────────────────────────────────────────────────────────────────────────────────────────────────────────────────╯\n",
       "</pre>\n"
      ],
      "text/plain": [
       "\u001b[1;31mFilter \u001b[0m\u001b[1;3;34m'elements HAS ALL \"Ti\", \"Al\" AND \u001b[0m\u001b[1;3;34m_cod_sgNumber\u001b[0m\u001b[1;3;34m=\u001b[0m\u001b[1;3;34m123\u001b[0m\u001b[1;3;34m'\u001b[0m\u001b[1;31m could not be parsed as an OPTIMADE filter.\u001b[0m\n",
       "╭─────────────────────────────────────────────────────────────────────────────────────────────────────────────────╮\n",
       "│ \u001b[35mUnable to parse filter elements HAS ALL \"Ti\", \"Al\" AND _cod_sgNumber=123. Lark traceback: \u001b[0m                      │\n",
       "│ \u001b[35mNo terminal matches 'N' in the current parser context, at line 1 col 40\u001b[0m                                         │\n",
       "│                                                                                                                 │\n",
       "│ \u001b[35melements HAS ALL \"Ti\", \"Al\" AND _cod_sgNumber=123\u001b[0m                                                               │\n",
       "│ \u001b[35m                                       ^\u001b[0m                                                                        │\n",
       "│ \u001b[35mExpected one of: \u001b[0m                                                                                               │\n",
       "│ \u001b[35m        \u001b[0m\u001b[35m* IS\u001b[0m                                                                                                    │\n",
       "│ \u001b[35m        \u001b[0m\u001b[35m* CONTAINS\u001b[0m                                                                                              │\n",
       "│ \u001b[35m        \u001b[0m\u001b[35m* HAS\u001b[0m                                                                                                   │\n",
       "│ \u001b[35m        \u001b[0m\u001b[35m* OPERATOR\u001b[0m                                                                                              │\n",
       "│ \u001b[35m        \u001b[0m\u001b[35m* COLON\u001b[0m                                                                                                 │\n",
       "│ \u001b[35m        \u001b[0m\u001b[35m* STARTS\u001b[0m                                                                                                │\n",
       "│ \u001b[35m        \u001b[0m\u001b[35m* DOT\u001b[0m                                                                                                   │\n",
       "│ \u001b[35m        \u001b[0m\u001b[35m* LENGTH\u001b[0m                                                                                                │\n",
       "│ \u001b[35m        \u001b[0m\u001b[35m* ENDS\u001b[0m                                                                                                  │\n",
       "│                                                                                                                 │\n",
       "╰─────────────────────────────────────────────────────────────────────────────────────────────────────────────────╯\n"
      ]
     },
     "metadata": {},
     "output_type": "display_data"
    },
    {
     "name": "stderr",
     "output_type": "stream",
     "text": [
      "ERROR:root:[raw] fetch failed: Unable to parse filter elements HAS ALL \"Ti\", \"Al\" AND _cod_sgNumber=123. Lark traceback: \n",
      "No terminal matches 'N' in the current parser context, at line 1 col 40\n",
      "\n",
      "elements HAS ALL \"Ti\", \"Al\" AND _cod_sgNumber=123\n",
      "                                       ^\n",
      "Expected one of: \n",
      "\t* IS\n",
      "\t* CONTAINS\n",
      "\t* HAS\n",
      "\t* OPERATOR\n",
      "\t* COLON\n",
      "\t* STARTS\n",
      "\t* DOT\n",
      "\t* LENGTH\n",
      "\t* ENDS\n",
      "\n"
     ]
    }
   ],
   "source": [
    "gamma_tial_alexandria = (\n",
    "    'elements HAS ALL \"Ti\", \"Al\" '\n",
    "    'AND _cod_sgNumber=123'\n",
    ")\n",
    "# _alexandria_space_group\n",
    "result = fetch_structures_with_filter(\n",
    "    filter=gamma_tial_alexandria,\n",
    "    as_format=\"json\",\n",
    "    providers=[\"oqmd\", \"cod\"]\n",
    ")"
   ]
  },
  {
   "cell_type": "code",
   "execution_count": 4,
   "metadata": {},
   "outputs": [
    {
     "data": {
      "text/html": [
       "<pre style=\"white-space:pre;overflow-x:auto;line-height:normal;font-family:Menlo,'DejaVu Sans Mono',consolas,'Courier New',monospace\">/opt/anaconda3/envs/optimade/lib/python3.13/site-packages/rich/live.py:231: UserWarning: install \"ipywidgets\" for \n",
       "Jupyter support\n",
       "  warnings.warn('install \"ipywidgets\" for Jupyter support')\n",
       "</pre>\n"
      ],
      "text/plain": [
       "/opt/anaconda3/envs/optimade/lib/python3.13/site-packages/rich/live.py:231: UserWarning: install \"ipywidgets\" for \n",
       "Jupyter support\n",
       "  warnings.warn('install \"ipywidgets\" for Jupyter support')\n"
      ]
     },
     "metadata": {},
     "output_type": "display_data"
    },
    {
     "data": {
      "text/html": [
       "<pre style=\"white-space:pre;overflow-x:auto;line-height:normal;font-family:Menlo,'DejaVu Sans Mono',consolas,'Courier New',monospace\">Retrieved databases from <span style=\"color: #008000; text-decoration-color: #008000; font-weight: bold\">alexandria</span>\n",
       "</pre>\n"
      ],
      "text/plain": [
       "Retrieved databases from \u001b[1;32malexandria\u001b[0m\n"
      ]
     },
     "metadata": {},
     "output_type": "display_data"
    },
    {
     "data": {
      "text/html": [
       "<pre style=\"white-space:pre;overflow-x:auto;line-height:normal;font-family:Menlo,'DejaVu Sans Mono',consolas,'Courier New',monospace\">Retrieved databases from <span style=\"color: #008000; text-decoration-color: #008000; font-weight: bold\">cod</span>\n",
       "</pre>\n"
      ],
      "text/plain": [
       "Retrieved databases from \u001b[1;32mcod\u001b[0m\n"
      ]
     },
     "metadata": {},
     "output_type": "display_data"
    },
    {
     "data": {
      "text/html": [
       "<pre style=\"white-space:pre;overflow-x:auto;line-height:normal;font-family:Menlo,'DejaVu Sans Mono',consolas,'Courier New',monospace\">Retrieved databases from <span style=\"color: #008000; text-decoration-color: #008000; font-weight: bold\">cmr</span>\n",
       "</pre>\n"
      ],
      "text/plain": [
       "Retrieved databases from \u001b[1;32mcmr\u001b[0m\n"
      ]
     },
     "metadata": {},
     "output_type": "display_data"
    },
    {
     "data": {
      "text/html": [
       "<pre style=\"white-space:pre;overflow-x:auto;line-height:normal;font-family:Menlo,'DejaVu Sans Mono',consolas,'Courier New',monospace\">Retrieved databases from <span style=\"color: #008000; text-decoration-color: #008000; font-weight: bold\">mcloud</span>\n",
       "</pre>\n"
      ],
      "text/plain": [
       "Retrieved databases from \u001b[1;32mmcloud\u001b[0m\n"
      ]
     },
     "metadata": {},
     "output_type": "display_data"
    },
    {
     "data": {
      "text/html": [
       "<pre style=\"white-space:pre;overflow-x:auto;line-height:normal;font-family:Menlo,'DejaVu Sans Mono',consolas,'Courier New',monospace\">Retrieved databases from <span style=\"color: #008000; text-decoration-color: #008000; font-weight: bold\">mcloudarchive</span>\n",
       "</pre>\n"
      ],
      "text/plain": [
       "Retrieved databases from \u001b[1;32mmcloudarchive\u001b[0m\n"
      ]
     },
     "metadata": {},
     "output_type": "display_data"
    },
    {
     "data": {
      "text/html": [
       "<pre style=\"white-space:pre;overflow-x:auto;line-height:normal;font-family:Menlo,'DejaVu Sans Mono',consolas,'Courier New',monospace\">Retrieved databases from <span style=\"color: #008000; text-decoration-color: #008000; font-weight: bold\">mp</span>\n",
       "</pre>\n"
      ],
      "text/plain": [
       "Retrieved databases from \u001b[1;32mmp\u001b[0m\n"
      ]
     },
     "metadata": {},
     "output_type": "display_data"
    },
    {
     "data": {
      "text/html": [
       "<pre style=\"white-space:pre;overflow-x:auto;line-height:normal;font-family:Menlo,'DejaVu Sans Mono',consolas,'Courier New',monospace\">Retrieved databases from <span style=\"color: #008000; text-decoration-color: #008000; font-weight: bold\">mpdd</span>\n",
       "</pre>\n"
      ],
      "text/plain": [
       "Retrieved databases from \u001b[1;32mmpdd\u001b[0m\n"
      ]
     },
     "metadata": {},
     "output_type": "display_data"
    },
    {
     "data": {
      "text/html": [
       "<pre style=\"white-space:pre;overflow-x:auto;line-height:normal;font-family:Menlo,'DejaVu Sans Mono',consolas,'Courier New',monospace\">Retrieved databases from <span style=\"color: #008000; text-decoration-color: #008000; font-weight: bold\">mpds</span>\n",
       "</pre>\n"
      ],
      "text/plain": [
       "Retrieved databases from \u001b[1;32mmpds\u001b[0m\n"
      ]
     },
     "metadata": {},
     "output_type": "display_data"
    },
    {
     "data": {
      "text/html": [
       "<pre style=\"white-space:pre;overflow-x:auto;line-height:normal;font-family:Menlo,'DejaVu Sans Mono',consolas,'Courier New',monospace\">Retrieved databases from <span style=\"color: #008000; text-decoration-color: #008000; font-weight: bold\">nmd</span>\n",
       "</pre>\n"
      ],
      "text/plain": [
       "Retrieved databases from \u001b[1;32mnmd\u001b[0m\n"
      ]
     },
     "metadata": {},
     "output_type": "display_data"
    },
    {
     "data": {
      "text/html": [
       "<pre style=\"white-space:pre;overflow-x:auto;line-height:normal;font-family:Menlo,'DejaVu Sans Mono',consolas,'Courier New',monospace\">Retrieved databases from <span style=\"color: #008000; text-decoration-color: #008000; font-weight: bold\">odbx</span>\n",
       "</pre>\n"
      ],
      "text/plain": [
       "Retrieved databases from \u001b[1;32modbx\u001b[0m\n"
      ]
     },
     "metadata": {},
     "output_type": "display_data"
    },
    {
     "data": {
      "text/html": [
       "<pre style=\"white-space:pre;overflow-x:auto;line-height:normal;font-family:Menlo,'DejaVu Sans Mono',consolas,'Courier New',monospace\">Retrieved databases from <span style=\"color: #008000; text-decoration-color: #008000; font-weight: bold\">omdb</span>\n",
       "</pre>\n"
      ],
      "text/plain": [
       "Retrieved databases from \u001b[1;32momdb\u001b[0m\n"
      ]
     },
     "metadata": {},
     "output_type": "display_data"
    },
    {
     "data": {
      "text/html": [
       "<pre style=\"white-space:pre;overflow-x:auto;line-height:normal;font-family:Menlo,'DejaVu Sans Mono',consolas,'Courier New',monospace\">Retrieved databases from <span style=\"color: #008000; text-decoration-color: #008000; font-weight: bold\">oqmd</span>\n",
       "</pre>\n"
      ],
      "text/plain": [
       "Retrieved databases from \u001b[1;32moqmd\u001b[0m\n"
      ]
     },
     "metadata": {},
     "output_type": "display_data"
    },
    {
     "data": {
      "text/html": [
       "<pre style=\"white-space:pre;overflow-x:auto;line-height:normal;font-family:Menlo,'DejaVu Sans Mono',consolas,'Courier New',monospace\">Retrieved databases from <span style=\"color: #008000; text-decoration-color: #008000; font-weight: bold\">jarvis</span>\n",
       "</pre>\n"
      ],
      "text/plain": [
       "Retrieved databases from \u001b[1;32mjarvis\u001b[0m\n"
      ]
     },
     "metadata": {},
     "output_type": "display_data"
    },
    {
     "data": {
      "text/html": [
       "<pre style=\"white-space:pre;overflow-x:auto;line-height:normal;font-family:Menlo,'DejaVu Sans Mono',consolas,'Courier New',monospace\">Retrieved databases from <span style=\"color: #008000; text-decoration-color: #008000; font-weight: bold\">tcod</span>\n",
       "</pre>\n"
      ],
      "text/plain": [
       "Retrieved databases from \u001b[1;32mtcod\u001b[0m\n"
      ]
     },
     "metadata": {},
     "output_type": "display_data"
    },
    {
     "data": {
      "text/html": [
       "<pre style=\"white-space:pre;overflow-x:auto;line-height:normal;font-family:Menlo,'DejaVu Sans Mono',consolas,'Courier New',monospace\">Retrieved databases from <span style=\"color: #008000; text-decoration-color: #008000; font-weight: bold\">twodmatpedia</span>\n",
       "</pre>\n"
      ],
      "text/plain": [
       "Retrieved databases from \u001b[1;32mtwodmatpedia\u001b[0m\n"
      ]
     },
     "metadata": {},
     "output_type": "display_data"
    },
    {
     "data": {
      "text/html": [
       "<pre style=\"white-space:pre;overflow-x:auto;line-height:normal;font-family:Menlo,'DejaVu Sans Mono',consolas,'Courier New',monospace\"></pre>\n"
      ],
      "text/plain": []
     },
     "metadata": {},
     "output_type": "display_data"
    },
    {
     "data": {
      "text/html": [
       "<pre style=\"white-space:pre;overflow-x:auto;line-height:normal;font-family:Menlo,'DejaVu Sans Mono',consolas,'Courier New',monospace\">╭───────────────────────────────────╮\n",
       "│ Listing properties for <span style=\"color: #808000; text-decoration-color: #808000; font-weight: bold\">structures</span> │\n",
       "╰───────────────────────────────────╯\n",
       "</pre>\n"
      ],
      "text/plain": [
       "╭───────────────────────────────────╮\n",
       "│ Listing properties for \u001b[1;33mstructures\u001b[0m │\n",
       "╰───────────────────────────────────╯\n"
      ]
     },
     "metadata": {},
     "output_type": "display_data"
    },
    {
     "data": {
      "text/html": [
       "<pre style=\"white-space:pre;overflow-x:auto;line-height:normal;font-family:Menlo,'DejaVu Sans Mono',consolas,'Courier New',monospace\">Detected a running event loop <span style=\"font-weight: bold\">(</span>e.g., Jupyter<span style=\"font-weight: bold\">)</span>. Attempting to switch to synchronous mode.\n",
       "</pre>\n"
      ],
      "text/plain": [
       "Detected a running event loop \u001b[1m(\u001b[0me.g., Jupyter\u001b[1m)\u001b[0m. Attempting to switch to synchronous mode.\n"
      ]
     },
     "metadata": {},
     "output_type": "display_data"
    },
    {
     "data": {
      "text/html": [
       "<pre style=\"white-space:pre;overflow-x:auto;line-height:normal;font-family:Menlo,'DejaVu Sans Mono',consolas,'Courier New',monospace\"><span style=\"color: #800000; text-decoration-color: #800000\">Error</span>: Provider <span style=\"color: #008000; text-decoration-color: #008000\">'https://optimade.odbx.science/'</span> returned: <span style=\"color: #800000; text-decoration-color: #800000; font-weight: bold; font-style: italic\">500</span><span style=\"color: #800000; text-decoration-color: #800000; font-style: italic\"> - </span>\n",
       "<span style=\"color: #800000; text-decoration-color: #800000; font-style: italic; text-decoration: underline\">https://optimade.odbx.science/v1/info/structures?response_fields=id&amp;page_limit=1:</span><span style=\"color: #800000; text-decoration-color: #800000; font-style: italic\"> ValidationError: Input should be </span>\n",
       "<span style=\"color: #800000; text-decoration-color: #800000; font-style: italic\">a valid string</span>\n",
       "</pre>\n"
      ],
      "text/plain": [
       "\u001b[31mError\u001b[0m: Provider \u001b[32m'https://optimade.odbx.science/'\u001b[0m returned: \u001b[1;3;31m500\u001b[0m\u001b[3;31m - \u001b[0m\n",
       "\u001b[3;4;31mhttps://optimade.odbx.science/v1/info/structures?\u001b[0m\u001b[3;4;31mresponse_fields\u001b[0m\u001b[3;4;31m=\u001b[0m\u001b[3;4;31mid\u001b[0m\u001b[3;4;31m&\u001b[0m\u001b[3;4;31mpage_limit\u001b[0m\u001b[3;4;31m=\u001b[0m\u001b[3;4;31m1\u001b[0m\u001b[3;4;31m:\u001b[0m\u001b[3;31m ValidationError: Input should be \u001b[0m\n",
       "\u001b[3;31ma valid string\u001b[0m\n"
      ]
     },
     "metadata": {},
     "output_type": "display_data"
    },
    {
     "data": {
      "text/html": [
       "<pre style=\"white-space:pre;overflow-x:auto;line-height:normal;font-family:Menlo,'DejaVu Sans Mono',consolas,'Courier New',monospace\"></pre>\n"
      ],
      "text/plain": []
     },
     "metadata": {},
     "output_type": "display_data"
    },
    {
     "ename": "AttributeError",
     "evalue": "'list' object has no attribute 'get'",
     "output_type": "error",
     "traceback": [
      "\u001b[31m---------------------------------------------------------------------------\u001b[39m",
      "\u001b[31mAttributeError\u001b[39m                            Traceback (most recent call last)",
      "\u001b[36mCell\u001b[39m\u001b[36m \u001b[39m\u001b[32mIn[4]\u001b[39m\u001b[32m, line 5\u001b[39m\n\u001b[32m      1\u001b[39m client = OptimadeClient(\n\u001b[32m      2\u001b[39m             include_providers=DEFAULT_PROVIDERS,\n\u001b[32m      3\u001b[39m             http_timeout=\u001b[32m60.0\u001b[39m \n\u001b[32m      4\u001b[39m     )\n\u001b[32m----> \u001b[39m\u001b[32m5\u001b[39m results = \u001b[43mclient\u001b[49m\u001b[43m.\u001b[49m\u001b[43mlist_properties\u001b[49m\u001b[43m(\u001b[49m\u001b[33;43m'\u001b[39;49m\u001b[33;43mstructures\u001b[39;49m\u001b[33;43m'\u001b[39;49m\u001b[43m)\u001b[49m\n",
      "\u001b[36mFile \u001b[39m\u001b[32m/opt/anaconda3/envs/optimade/lib/python3.13/site-packages/optimade/client/client.py:621\u001b[39m, in \u001b[36mOptimadeClient.list_properties\u001b[39m\u001b[34m(self, entry_type)\u001b[39m\n\u001b[32m    618\u001b[39m \u001b[38;5;28mself\u001b[39m.property_lists = {entry_type: {}}\n\u001b[32m    619\u001b[39m \u001b[38;5;28;01mfor\u001b[39;00m database \u001b[38;5;129;01min\u001b[39;00m results:\n\u001b[32m    620\u001b[39m     \u001b[38;5;28mself\u001b[39m.property_lists[entry_type][database] = \u001b[38;5;28mlist\u001b[39m(\n\u001b[32m--> \u001b[39m\u001b[32m621\u001b[39m         \u001b[43mresults\u001b[49m\u001b[43m[\u001b[49m\u001b[43mdatabase\u001b[49m\u001b[43m]\u001b[49m\u001b[43m.\u001b[49m\u001b[43mdata\u001b[49m\u001b[43m.\u001b[49m\u001b[43mget\u001b[49m(\u001b[33m\"\u001b[39m\u001b[33mproperties\u001b[39m\u001b[33m\"\u001b[39m, {}).keys()  \u001b[38;5;66;03m# type: ignore\u001b[39;00m\n\u001b[32m    622\u001b[39m     )\n\u001b[32m    623\u001b[39m \u001b[38;5;28;01mreturn\u001b[39;00m \u001b[38;5;28mself\u001b[39m.property_lists[entry_type]\n",
      "\u001b[31mAttributeError\u001b[39m: 'list' object has no attribute 'get'"
     ]
    }
   ],
   "source": [
    "client = OptimadeClient(\n",
    "            include_providers=DEFAULT_PROVIDERS,\n",
    "            http_timeout=60.0 \n",
    "    )\n",
    "results = client.list_properties('structures')"
   ]
  }
 ],
 "metadata": {
  "kernelspec": {
   "display_name": "optimade",
   "language": "python",
   "name": "python3"
  },
  "language_info": {
   "codemirror_mode": {
    "name": "ipython",
    "version": 3
   },
   "file_extension": ".py",
   "mimetype": "text/x-python",
   "name": "python",
   "nbconvert_exporter": "python",
   "pygments_lexer": "ipython3",
   "version": "3.13.5"
  }
 },
 "nbformat": 4,
 "nbformat_minor": 2
}
